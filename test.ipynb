{
 "cells": [
  {
   "cell_type": "code",
   "execution_count": 8,
   "metadata": {},
   "outputs": [],
   "source": [
    "from visualize import addPath\n",
    "from utils import contactNeighbours,TMatrix"
   ]
  },
  {
   "cell_type": "code",
   "execution_count": 9,
   "metadata": {},
   "outputs": [
    {
     "name": "stdout",
     "output_type": "stream",
     "text": [
      "K (0, 0);K (0, 1);K (0, 2);K (0, 3);P (0, 4);P (0, 5);K (0, 6);K (0, 7);\n",
      "\n",
      "K (1, 0);K (1, 1);K (1, 2);K (1, 3);P (1, 4);P (1, 5);K (1, 6);K (1, 7);\n",
      "\n",
      "NULL (2, 0);NULL (2, 1);NULL (2, 2);NULL (2, 3);NULL (2, 4);NULL (2, 5);NULL (2, 6);NULL (2, 7);\n",
      "\n",
      "K (0, 0)\n",
      "K (1, 0)\n",
      "NULL (2, 0)\n",
      "NULL (2, 1)\n",
      "K (1, 1)\n",
      "K (1, 2)\n",
      "NULL (2, 2)\n",
      "NULL (2, 3)\n",
      "K (1, 3)\n",
      "P (1, 4)\n",
      "NULL (2, 4)\n",
      "NULL (2, 5)\n",
      "P (1, 5)\n",
      "K (1, 6)\n",
      "NULL (2, 6)\n",
      "NULL (2, 7)\n",
      "K (1, 7)\n",
      "K (0, 7)\n",
      "K (1, 0)\n",
      "NULL (2, 0)\n",
      "NULL (2, 1)\n",
      "K (1, 1)\n",
      "K (1, 2)\n",
      "NULL (2, 2)\n"
     ]
    }
   ],
   "source": [
    "cn = contactNeighbours(0,0)\n",
    "# cn.print()\n",
    "inp = [[\"K\",\"K\",\"K\"],\n",
    "         [\"K\",\"K\",\"K\"],\n",
    "         [\"K\",\"K\",\"K\"]]\n",
    "\n",
    "\n",
    "inpInit = [[\"K\",\"K\",\"P\",\"K\"],[\"K\",\"K\",\"P\",\"K\"]]       \n",
    "\n",
    "tm = TMatrix(inpInit)\n",
    "tm.stitchNew()\n",
    "# tm.knitPurlStich(0,0,0)\n",
    "# tm.knitPurlStich(1,0,0)\n",
    "tm.print()\n",
    "# tm.printDetail()\n",
    "# tm.data[0][1].show()\n",
    "\n",
    "for i in range(24):\n",
    "    try:\n",
    "        print(curr.getST(),curr.getXY())\n",
    "        curr = curr.next\n",
    "    except:\n",
    "        print(\"Stopped\")\n",
    "        "
   ]
  },
  {
   "cell_type": "code",
   "execution_count": 10,
   "metadata": {},
   "outputs": [
    {
     "ename": "NameError",
     "evalue": "name 'plt' is not defined",
     "output_type": "error",
     "traceback": [
      "\u001b[0;31m---------------------------------------------------------------------------\u001b[0m",
      "\u001b[0;31mNameError\u001b[0m                                 Traceback (most recent call last)",
      "\u001b[1;32m/workspaces/topoknit/test.ipynb Cell 3\u001b[0m in \u001b[0;36m<cell line: 2>\u001b[0;34m()\u001b[0m\n\u001b[1;32m      <a href='vscode-notebook-cell://codespaces%2Bpicografix-topoknit-w5w5v657g753v49/workspaces/topoknit/test.ipynb#X11sdnNjb2RlLXJlbW90ZQ%3D%3D?line=0'>1</a>\u001b[0m curr \u001b[39m=\u001b[39m tm\u001b[39m.\u001b[39mdata[\u001b[39m0\u001b[39m][\u001b[39m0\u001b[39m]\n\u001b[0;32m----> <a href='vscode-notebook-cell://codespaces%2Bpicografix-topoknit-w5w5v657g753v49/workspaces/topoknit/test.ipynb#X11sdnNjb2RlLXJlbW90ZQ%3D%3D?line=1'>2</a>\u001b[0m fig, ax1 \u001b[39m=\u001b[39m plt\u001b[39m.\u001b[39msubplots(\u001b[39m1\u001b[39m, \u001b[39m1\u001b[39m)\n\u001b[1;32m      <a href='vscode-notebook-cell://codespaces%2Bpicografix-topoknit-w5w5v657g753v49/workspaces/topoknit/test.ipynb#X11sdnNjb2RlLXJlbW90ZQ%3D%3D?line=2'>3</a>\u001b[0m \u001b[39mfor\u001b[39;00m i \u001b[39min\u001b[39;00m \u001b[39mrange\u001b[39m(\u001b[39m5\u001b[39m):\n\u001b[1;32m      <a href='vscode-notebook-cell://codespaces%2Bpicografix-topoknit-w5w5v657g753v49/workspaces/topoknit/test.ipynb#X11sdnNjb2RlLXJlbW90ZQ%3D%3D?line=3'>4</a>\u001b[0m     A \u001b[39m=\u001b[39m curr\u001b[39m.\u001b[39mgetXY()\n",
      "\u001b[0;31mNameError\u001b[0m: name 'plt' is not defined"
     ]
    }
   ],
   "source": [
    "curr = tm.data[0][0]\n",
    "fig, ax1 = plt.subplots(1, 1)\n",
    "for i in range(5):\n",
    "    A = curr.getXY()\n",
    "    B = curr.next.getXY()\n",
    "    addPath(A,B,ax1)"
   ]
  },
  {
   "cell_type": "code",
   "execution_count": null,
   "metadata": {},
   "outputs": [],
   "source": []
  }
 ],
 "metadata": {
  "kernelspec": {
   "display_name": "Python 3.10.4 64-bit",
   "language": "python",
   "name": "python3"
  },
  "language_info": {
   "codemirror_mode": {
    "name": "ipython",
    "version": 3
   },
   "file_extension": ".py",
   "mimetype": "text/x-python",
   "name": "python",
   "nbconvert_exporter": "python",
   "pygments_lexer": "ipython3",
   "version": "3.10.4"
  },
  "orig_nbformat": 4,
  "vscode": {
   "interpreter": {
    "hash": "4f946df053fbf2b937619d3c5458e7af74262f9a954d8797ba0b27400bcafe06"
   }
  }
 },
 "nbformat": 4,
 "nbformat_minor": 2
}
