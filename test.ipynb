{
 "cells": [
  {
   "cell_type": "code",
   "execution_count": 5,
   "metadata": {},
   "outputs": [],
   "source": [
    "from visualize import addPath\n",
    "from utils import contactNeighbours,TMatrix\n",
    "from matplotlib.patches import ConnectionPatch\n",
    "import matplotlib.pyplot as plt\n"
   ]
  },
  {
   "cell_type": "code",
   "execution_count": 7,
   "metadata": {},
   "outputs": [
    {
     "name": "stdout",
     "output_type": "stream",
     "text": [
      "K (0, 0);K (0, 1);K (0, 2);K (0, 3);K (0, 4);K (0, 5);K (0, 6);K (0, 7);\n",
      "\n",
      "K (1, 0);K (1, 1);K (1, 2);K (1, 3);K (1, 4);K (1, 5);K (1, 6);K (1, 7);\n",
      "\n",
      "K (2, 0);K (2, 1);K (2, 2);K (2, 3);K (2, 4);K (2, 5);K (2, 6);K (2, 7);\n",
      "\n",
      "NULL (3, 0);NULL (3, 1);NULL (3, 2);NULL (3, 3);NULL (3, 4);NULL (3, 5);NULL (3, 6);NULL (3, 7);\n",
      "\n"
     ]
    }
   ],
   "source": [
    "\n",
    "cn = contactNeighbours(0,0)\n",
    "# cn.print()\n",
    "inp1 = [[\"K\",\"K\",\"K\",\"K\"]]\n",
    "inp2 = [[\"K\",\"K\",\"P\",\"K\"],[\"K\",\"K\",\"P\",\"K\"]]\n",
    "inp3 = [[\"K\",\"K\",\"K\",\"K\"],[\"K\",\"K\",\"K\",\"K\"],[\"K\",\"K\",\"K\",\"K\"]]       \n",
    "inp4 = [[\"K\",\"K\",\"P\",\"K\"],[\"K\",\"K\",\"P\",\"K\"],[\"K\",\"K\",\"P\",\"K\"],[\"K\",\"K\",\"P\",\"K\"]]\n",
    "inp5 = [[\"K\",\"K\",\"P\",\"K\"],[\"K\",\"K\",\"P\",\"K\"],[\"K\",\"K\",\"P\",\"K\"],[\"K\",\"K\",\"P\",\"K\"],[\"K\",\"K\",\"P\",\"K\"]]\n",
    "tm = TMatrix(inp3)\n",
    "tm.stitchNew()\n",
    "tm.print()\n",
    "\n",
    "        \n",
    "# for i in range(len(tm.data)):\n",
    "#     for j in range(len(tm.data[0])):\n",
    "#         temp = tm.data[i][j]\n",
    "#         print(temp.getXY(),temp.getST(), end=\" \")\n",
    "#         try:\n",
    "#             print(temp.next.getXY(), end=\" \")\n",
    "#         except:\n",
    "#             print(temp.next, end=\" \")\n",
    "\n",
    "#         try:\n",
    "#             print(temp.prev.getXY())\n",
    "#         except:\n",
    "#             print(temp.prev)\n",
    "        \n",
    "#         # print(temp.next)\n"
   ]
  },
  {
   "cell_type": "code",
   "execution_count": 8,
   "metadata": {},
   "outputs": [
    {
     "name": "stdout",
     "output_type": "stream",
     "text": [
      "No prev for  (0, 0)\n",
      "No prev for  (0, 1)\n",
      "No prev for  (0, 2)\n",
      "No prev for  (0, 3)\n",
      "No prev for  (0, 4)\n",
      "No prev for  (0, 5)\n",
      "No prev for  (0, 6)\n",
      "No next for (0, 7)\n",
      "No prev for  (1, 0)\n",
      "No next for (2, 7)\n",
      "No prev for  (3, 0)\n",
      "No prev for  (3, 1)\n",
      "No prev for  (3, 2)\n",
      "No prev for  (3, 3)\n",
      "No prev for  (3, 4)\n",
      "No prev for  (3, 5)\n",
      "No prev for  (3, 6)\n",
      "No prev for  (3, 7)\n"
     ]
    },
    {
     "data": {
      "image/png": "[encoded data removed]",
      "text/plain": [
       "<Figure size 640x480 with 1 Axes>"
      ]
     },
     "metadata": {},
     "output_type": "display_data"
    }
   ],
   "source": [
    "fig,ax1 = plt.subplots(1, 1)\n",
    "\n",
    "for i in range(len(tm.data)):\n",
    "    for j in range(len(tm.data[0])):\n",
    "        temp = tm.data[i][j]\n",
    "        # try next\n",
    "        try:\n",
    "            A = temp.getXYRevert()\n",
    "            B = temp.next.getXYRevert()\n",
    "            addPath(A,B,ax1)\n",
    "        except:\n",
    "            print(\"No next for\", temp.getXY())\n",
    "        \n",
    "        # try prev\n",
    "\n",
    "        try:\n",
    "            A = temp.getXYRevert()\n",
    "            B = temp.prev.getXYRevert()\n",
    "            addPath(A,B,ax1)\n",
    "        \n",
    "        except:\n",
    "            print(\"No prev for \", temp.getXY())\n",
    "\n",
    "\n"
   ]
  },
  {
   "cell_type": "code",
   "execution_count": 11,
   "metadata": {},
   "outputs": [],
   "source": [
    "a = [[\"K\",\"K\",\"K\",\"K\"]]*5"
   ]
  },
  {
   "cell_type": "code",
   "execution_count": 12,
   "metadata": {},
   "outputs": [
    {
     "data": {
      "text/plain": [
       "[['K', 'K', 'K', 'K'],\n",
       " ['K', 'K', 'K', 'K'],\n",
       " ['K', 'K', 'K', 'K'],\n",
       " ['K', 'K', 'K', 'K'],\n",
       " ['K', 'K', 'K', 'K']]"
      ]
     },
     "execution_count": 12,
     "metadata": {},
     "output_type": "execute_result"
    }
   ],
   "source": [
    "a"
   ]
  },
  {
   "cell_type": "code",
   "execution_count": null,
   "metadata": {},
   "outputs": [],
   "source": []
  }
 ],
 "metadata": {
  "kernelspec": {
   "display_name": "Python 3.10.6 64-bit",
   "language": "python",
   "name": "python3"
  },
  "language_info": {
   "codemirror_mode": {
    "name": "ipython",
    "version": 3
   },
   "file_extension": ".py",
   "mimetype": "text/x-python",
   "name": "python",
   "nbconvert_exporter": "python",
   "pygments_lexer": "ipython3",
   "version": "3.10.6"
  },
  "orig_nbformat": 4,
  "vscode": {
   "interpreter": {
    "hash": "369f2c481f4da34e4445cda3fffd2e751bd1c4d706f27375911949ba6bb62e1c"
   }
  }
 },
 "nbformat": 4,
 "nbformat_minor": 2
}
