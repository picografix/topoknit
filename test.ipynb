{
 "cells": [
  {
   "cell_type": "code",
   "execution_count": 35,
   "metadata": {},
   "outputs": [
    {
     "name": "stdout",
     "output_type": "stream",
     "text": [
      "CN: ST = None, AV = PCN, MV = None \n",
      "\n"
     ]
    }
   ],
   "source": []
  },
  {
   "cell_type": "code",
   "execution_count": 38,
   "metadata": {},
   "outputs": [
    {
     "ename": "AttributeError",
     "evalue": "'contactNeighbours' object has no attribute 'getST'",
     "output_type": "error",
     "traceback": [
      "\u001b[1;31m---------------------------------------------------------------------------\u001b[0m",
      "\u001b[1;31mAttributeError\u001b[0m                            Traceback (most recent call last)",
      "Cell \u001b[1;32mIn [38], line 1\u001b[0m\n\u001b[1;32m----> 1\u001b[0m \u001b[43mcn\u001b[49m\u001b[38;5;241;43m.\u001b[39;49m\u001b[43mgetST\u001b[49m()\n",
      "\u001b[1;31mAttributeError\u001b[0m: 'contactNeighbours' object has no attribute 'getST'"
     ]
    }
   ],
   "source": [
    "cn.getST()"
   ]
  },
  {
   "cell_type": "code",
   "execution_count": 20,
   "metadata": {},
   "outputs": [],
   "source": [
    "# print(\"Before\")\n",
    "# tm.print()\n",
    "\n",
    "\n",
    "# tm.print_row(0)\n",
    "# print(\"\\nAfter\")\n",
    "\n",
    "# tm.print()\n",
    "\n",
    "# for i in tm.data:\n",
    "#     for j in i:\n",
    "#         print(j.print(), end=\" \")\n",
    "#         # print(j.st,end=\" \")\n",
    "#     print(\"\\n\")\n"
   ]
  },
  {
   "cell_type": "code",
   "execution_count": 28,
   "metadata": {},
   "outputs": [
    {
     "ename": "AttributeError",
     "evalue": "'contactNeighbours' object has no attribute 'getST'",
     "output_type": "error",
     "traceback": [
      "\u001b[1;31m---------------------------------------------------------------------------\u001b[0m",
      "\u001b[1;31mAttributeError\u001b[0m                            Traceback (most recent call last)",
      "Cell \u001b[1;32mIn [28], line 1\u001b[0m\n\u001b[1;32m----> 1\u001b[0m \u001b[43mtm\u001b[49m\u001b[38;5;241;43m.\u001b[39;49m\u001b[43mdata\u001b[49m\u001b[43m[\u001b[49m\u001b[38;5;241;43m0\u001b[39;49m\u001b[43m]\u001b[49m\u001b[43m[\u001b[49m\u001b[38;5;241;43m5\u001b[39;49m\u001b[43m]\u001b[49m\u001b[38;5;241;43m.\u001b[39;49m\u001b[43mgetST\u001b[49m()\n",
      "\u001b[1;31mAttributeError\u001b[0m: 'contactNeighbours' object has no attribute 'getST'"
     ]
    }
   ],
   "source": []
  },
  {
   "cell_type": "code",
   "execution_count": 1,
   "metadata": {},
   "outputs": [
    {
     "data": {
      "image/png": "[encoded data removed]",
      "text/plain": [
       "<Figure size 640x480 with 1 Axes>"
      ]
     },
     "metadata": {},
     "output_type": "display_data"
    }
   ],
   "source": [
    "from matplotlib.patches import ConnectionPatch\n",
    "import matplotlib.pyplot as plt\n",
    "\n",
    "\n",
    "# Draw a simple arrow between two points in axes coordinates\n",
    "# within a single axes.\n",
    "def addPath(xyA,xyB,ax1):\n",
    "\n",
    "\n",
    "\tcoordsA = \"data\"\n",
    "\tcoordsB = \"data\"\n",
    "\tcon = ConnectionPatch(xyA, xyB, coordsA, coordsB,\n",
    "\t\t\t\t\t\t\t\t\t\t\t\tarrowstyle=\"->\", shrinkA=5, shrinkB=5,\n",
    "\t\t\t\t\t\t\t\t\t\t\t\tmutation_scale=20, fc=\"w\")\n",
    "\n",
    "\tax1.plot([xyA[0], xyB[0]], [xyA[1], xyB[1]], \"bo\")\n",
    "\tax1.add_artist(con)\n",
    "\n",
    "\n",
    "\n",
    "\n",
    "x = [1,1,2,2,3,3]\n",
    "y = [0,1,1,0,0,1]\n",
    "fig, ax1 = plt.subplots(1, 1)\n",
    "\n",
    "for i in range(5):\n",
    "  A = (x[i],y[i])\n",
    "  B = (x[i+1],y[i+1])\n",
    "  addPath(A,B,ax1)\n",
    "\n",
    "plt.show()\n",
    "\n"
   ]
  },
  {
   "cell_type": "code",
   "execution_count": null,
   "metadata": {},
   "outputs": [],
   "source": []
  }
 ],
 "metadata": {
  "kernelspec": {
   "display_name": "Python 3.10.4 64-bit",
   "language": "python",
   "name": "python3"
  },
  "language_info": {
   "codemirror_mode": {
    "name": "ipython",
    "version": 3
   },
   "file_extension": ".py",
   "mimetype": "text/x-python",
   "name": "python",
   "nbconvert_exporter": "python",
   "pygments_lexer": "ipython3",
   "version": "3.10.4"
  },
  "orig_nbformat": 4,
  "vscode": {
   "interpreter": {
    "hash": "4f946df053fbf2b937619d3c5458e7af74262f9a954d8797ba0b27400bcafe06"
   }
  }
 },
 "nbformat": 4,
 "nbformat_minor": 2
}
